{
  "nbformat": 4,
  "nbformat_minor": 0,
  "metadata": {
    "colab": {
      "name": "Copy of Copy of tuple_set.ipynb",
      "provenance": [],
      "authorship_tag": "ABX9TyPkTnTtpnzMdBXgvS2xdraS",
      "include_colab_link": true
    },
    "kernelspec": {
      "name": "python3",
      "display_name": "Python 3"
    },
    "language_info": {
      "name": "python"
    }
  },
  "cells": [
    {
      "cell_type": "markdown",
      "metadata": {
        "id": "view-in-github",
        "colab_type": "text"
      },
      "source": [
        "<a href=\"https://colab.research.google.com/github/maskesantosh014/hello/blob/main/Copy_of_Copy_of_tuple_set.ipynb\" target=\"_parent\"><img src=\"https://colab.research.google.com/assets/colab-badge.svg\" alt=\"Open In Colab\"/></a>"
      ]
    },
    {
      "cell_type": "code",
      "metadata": {
        "colab": {
          "base_uri": "https://localhost:8080/"
        },
        "id": "hAKZszRqE49F",
        "outputId": "72c88ceb-ecc1-4e66-8f30-e73500ae0553"
      },
      "source": [
        "thistuple=(\"apple\",\"banana\",\"cherry\")\n",
        "print(len(thistuple))\n",
        "print(type(thistuple))\n",
        "\n"
      ],
      "execution_count": null,
      "outputs": [
        {
          "output_type": "stream",
          "name": "stdout",
          "text": [
            "3\n",
            "<class 'tuple'>\n"
          ]
        }
      ]
    },
    {
      "cell_type": "code",
      "metadata": {
        "id": "gY9LaW7PHUqi"
      },
      "source": [
        "#function os set\n",
        "\n",
        "set_1={1,2,3,4,5,6,7,8,8,9,9}\n",
        "print(set_1)\n",
        "#add()\n",
        "set_1.add(10)\n",
        "print(set_1)\n",
        "set_1.add(11)\n",
        "print(set_1)\n",
        "print(type(set_1))\n",
        "\n",
        "#clear()\n",
        "set_1.clear()\n",
        "print(set_1)\n",
        "\n",
        "\n",
        "#copy()\n",
        "set_1={1,2,3,4,5,6,7}\n",
        "set2=set_1.copy()\n",
        "print(set2)\n",
        "set3=set_1.copy()\n",
        "prin\n",
        "\n",
        "#difference()\n",
        "\n",
        "abc={1,2,3,4,5,6,7,8}\n",
        "asd={6,7,8,9,10,11,12}\n",
        "print(abc.difference(asd))\n",
        "t(set3)\n",
        "\n"
      ],
      "execution_count": null,
      "outputs": []
    },
    {
      "cell_type": "code",
      "metadata": {
        "colab": {
          "base_uri": "https://localhost:8080/"
        },
        "id": "f7tYdu8nrHXt",
        "outputId": "3c566e19-9c58-448a-e440-fed61ff5a90b"
      },
      "source": [
        "#difference()\n",
        "\n",
        "abc={1,2,3,4,5,6,7,8}\n",
        "asd={6,7,8,9,10,11,12}\n",
        "print(abc.difference(asd))\n",
        "print(asd.difference(abc))\n",
        "print(abc-asd)\n",
        "print(asd-abc)\n"
      ],
      "execution_count": null,
      "outputs": [
        {
          "output_type": "stream",
          "name": "stdout",
          "text": [
            "{1, 2, 3, 4, 5}\n",
            "{9, 10, 11, 12}\n",
            "{1, 2, 3, 4, 5}\n",
            "{9, 10, 11, 12}\n"
          ]
        }
      ]
    },
    {
      "cell_type": "code",
      "metadata": {
        "id": "HjRrbtk_uEk-"
      },
      "source": [
        "#difference_update\n",
        " a= {10,20,30,40,80}\n",
        "b= {100,30,80,40,60}\n",
        "a.difference_update(b)\n",
        "print(a)"
      ],
      "execution_count": null,
      "outputs": []
    },
    {
      "cell_type": "code",
      "metadata": {
        "colab": {
          "base_uri": "https://localhost:8080/"
        },
        "id": "6F_TmJoDykoa",
        "outputId": "a3b67201-b742-4efa-8835-c73328e7ef64"
      },
      "source": [
        "#discard() \n",
        "abs={10,20,30,40,50,60,70,80,90}\n",
        "abs.discard(40)\n",
        "print(abs)\n",
        "abs.discard(10)\n",
        "print(abs)\n",
        "\n"
      ],
      "execution_count": 3,
      "outputs": [
        {
          "output_type": "stream",
          "name": "stdout",
          "text": [
            "{70, 10, 80, 50, 20, 90, 60, 30}\n",
            "{70, 80, 50, 20, 90, 60, 30}\n"
          ]
        }
      ]
    },
    {
      "cell_type": "code",
      "metadata": {
        "colab": {
          "base_uri": "https://localhost:8080/"
        },
        "id": "gy0xlJuUfVzy",
        "outputId": "70dc5506-8f95-49a2-db30-534175b417b7"
      },
      "source": [
        "#intersection()\n",
        "\n",
        "x={'santosh','akash','mangesh','ajay','ganesh'}\n",
        "y={\"nilesh\",'gauraw','pvan','sandip','santosh','ganesh'}\n",
        "a=x.intersection(y)\n",
        "print(a)\n",
        "\n",
        "w={1,2,3,4,5,6,8,9,}\n",
        "j={8,9,10,12,23,54,}\n",
        "c=w.intersection(j)\n",
        "print(c)"
      ],
      "execution_count": 5,
      "outputs": [
        {
          "output_type": "stream",
          "name": "stdout",
          "text": [
            "{'santosh', 'ganesh'}\n",
            "{8, 9}\n"
          ]
        }
      ]
    },
    {
      "cell_type": "code",
      "metadata": {
        "colab": {
          "base_uri": "https://localhost:8080/"
        },
        "id": "C--cbvFSiw9_",
        "outputId": "fb8e973d-a48c-4c1c-f5ad-6c55203aad4e"
      },
      "source": [
        "#isdisjoint()\n",
        "h={\"nikhil\",'kailas','kunal','nagesh','ganesh'}\n",
        "s={\"mangesh\",'ajay','komal','akash','dinkar','nikhil'}\n",
        "f=h.isdisjoint(s)\n",
        "print(f)"
      ],
      "execution_count": 8,
      "outputs": [
        {
          "output_type": "stream",
          "name": "stdout",
          "text": [
            "False\n"
          ]
        }
      ]
    },
    {
      "cell_type": "code",
      "metadata": {
        "colab": {
          "base_uri": "https://localhost:8080/"
        },
        "id": "5pTO6lXLkqlL",
        "outputId": "58afb54f-e455-4dee-870d-e2fee79c57f1"
      },
      "source": [
        "#union\n",
        "f={'akash','kunal','mangesh','rutuja','kajal'}\n",
        "k={'hasin','mukal','natash','saurabh','bhujang'}\n",
        "m=f.union(k)\n",
        "print(m)"
      ],
      "execution_count": 11,
      "outputs": [
        {
          "output_type": "stream",
          "name": "stdout",
          "text": [
            "{'kunal', 'hasin', 'kajal', 'rutuja', 'mangesh', 'mukal', 'bhujang', 'akash', 'natash', 'saurabh'}\n"
          ]
        }
      ]
    },
    {
      "cell_type": "code",
      "metadata": {
        "id": "7YjK1k9vl-mW"
      },
      "source": [
        "\n"
      ],
      "execution_count": null,
      "outputs": []
    }
  ]
}