{
  "nbformat": 4,
  "nbformat_minor": 0,
  "metadata": {
    "colab": {
      "name": "list.ipynb",
      "provenance": [],
      "authorship_tag": "ABX9TyOtoiGjemhDycB5vMexYbAg",
      "include_colab_link": true
    },
    "kernelspec": {
      "name": "python3",
      "display_name": "Python 3"
    },
    "language_info": {
      "name": "python"
    }
  },
  "cells": [
    {
      "cell_type": "markdown",
      "metadata": {
        "id": "view-in-github",
        "colab_type": "text"
      },
      "source": [
        "<a href=\"https://colab.research.google.com/github/maskesantosh014/hello/blob/main/list.ipynb\" target=\"_parent\"><img src=\"https://colab.research.google.com/assets/colab-badge.svg\" alt=\"Open In Colab\"/></a>"
      ]
    },
    {
      "cell_type": "code",
      "metadata": {
        "colab": {
          "base_uri": "https://localhost:8080/"
        },
        "id": "01Ay-mxzeEr6",
        "outputId": "12831408-829e-4fde-b489-2cb223ca0e54"
      },
      "source": [
        "var_lst=[\"hello\",1,4.63,True,\"world\",2.0,\"False\"]\n",
        "print(var_lst)"
      ],
      "execution_count": 1,
      "outputs": [
        {
          "output_type": "stream",
          "name": "stdout",
          "text": [
            "['hello', 1, 4.63, True, 'world', 2.0, 'False']\n"
          ]
        }
      ]
    },
    {
      "cell_type": "code",
      "metadata": {
        "colab": {
          "base_uri": "https://localhost:8080/"
        },
        "id": "Zb6LjSD0iUdv",
        "outputId": "79721bd7-df22-4f8b-b717-4f41e521dbe2"
      },
      "source": [
        "print(len(var_lst))\n",
        "print(var_lst[2:6:1])\n",
        "print(var_lst[1:6:-1])\n",
        "print(var_lst[-1:5:-1])"
      ],
      "execution_count": 32,
      "outputs": [
        {
          "output_type": "stream",
          "name": "stdout",
          "text": [
            "7\n",
            "[4.63, True, 'world', 2.0]\n",
            "[]\n",
            "['False']\n"
          ]
        }
      ]
    },
    {
      "cell_type": "code",
      "metadata": {
        "id": "wlQUC93T5bks"
      },
      "source": [
        ""
      ],
      "execution_count": null,
      "outputs": []
    },
    {
      "cell_type": "code",
      "metadata": {
        "colab": {
          "base_uri": "https://localhost:8080/"
        },
        "id": "3sgIWSyR5bv_",
        "outputId": "d6197de4-151d-428f-cdb7-2c5006ab1931"
      },
      "source": [
        "my_list=['geeks','for']\n",
        "my_list.append('geeks')\n",
        "print(my_list)"
      ],
      "execution_count": 33,
      "outputs": [
        {
          "output_type": "stream",
          "name": "stdout",
          "text": [
            "['geeks', 'for', 'geeks']\n"
          ]
        }
      ]
    },
    {
      "cell_type": "code",
      "metadata": {
        "colab": {
          "base_uri": "https://localhost:8080/"
        },
        "id": "gOz_Ec6G6Ng0",
        "outputId": "93dfd098-5669-4b14-b354-308ad894d579"
      },
      "source": [
        "my_list=['geeks','for','geeks']\n",
        "my_another=[6,0,4,1]\n",
        "my_list.append(my_another)\n",
        "print(my_list)"
      ],
      "execution_count": 35,
      "outputs": [
        {
          "output_type": "stream",
          "name": "stdout",
          "text": [
            "['geeks', 'for', 'geeks', [6, 0, 4, 1]]\n"
          ]
        }
      ]
    },
    {
      "cell_type": "code",
      "metadata": {
        "colab": {
          "base_uri": "https://localhost:8080/"
        },
        "id": "k_2qWfX77-XB",
        "outputId": "4474a027-6cf8-4f3e-a9b9-e55f84ecc9d5"
      },
      "source": [
        "my_list=['geeks','for']\n",
        "my_anotherlist=[6,0,4,1]\n",
        "my_list.extend(my_anotherlist)\n",
        "print(my_list)\n"
      ],
      "execution_count": 36,
      "outputs": [
        {
          "output_type": "stream",
          "name": "stdout",
          "text": [
            "['geeks', 'for', 6, 0, 4, 1]\n"
          ]
        }
      ]
    }
  ]
}