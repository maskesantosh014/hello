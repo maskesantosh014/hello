{
  "nbformat": 4,
  "nbformat_minor": 0,
  "metadata": {
    "colab": {
      "name": "listfun.ipynb",
      "provenance": [],
      "authorship_tag": "ABX9TyNK/bxIuEzYZmFRv0jd4JB5",
      "include_colab_link": true
    },
    "kernelspec": {
      "name": "python3",
      "display_name": "Python 3"
    },
    "language_info": {
      "name": "python"
    }
  },
  "cells": [
    {
      "cell_type": "markdown",
      "metadata": {
        "id": "view-in-github",
        "colab_type": "text"
      },
      "source": [
        "<a href=\"https://colab.research.google.com/github/maskesantosh014/hello/blob/main/listfun.ipynb\" target=\"_parent\"><img src=\"https://colab.research.google.com/assets/colab-badge.svg\" alt=\"Open In Colab\"/></a>"
      ]
    },
    {
      "cell_type": "code",
      "metadata": {
        "colab": {
          "base_uri": "https://localhost:8080/"
        },
        "id": "WsaRDh8iv5lR",
        "outputId": "d906e1b6-640c-4031-e089-53c1e94aee66"
      },
      "source": [
        "#append() function\n",
        "my_list=['santosh','akash','amar']\n",
        "my_list.append('kailas')\n",
        "print(my_list)\n",
        "my_list.append('damodar')\n",
        "print(my_list)\n",
        "my_list.append('jagan')\n",
        "print(my_list)\n",
        "my_an=[1,2,3,4]\n",
        "my_list.append(my_an)\n",
        "print(my_list)"
      ],
      "execution_count": 7,
      "outputs": [
        {
          "output_type": "stream",
          "name": "stdout",
          "text": [
            "['santosh', 'akash', 'amar', 'kailas']\n",
            "['santosh', 'akash', 'amar', 'kailas', 'damodar']\n",
            "['santosh', 'akash', 'amar', 'kailas', 'damodar', 'jagan']\n",
            "['santosh', 'akash', 'amar', 'kailas', 'damodar', 'jagan', [1, 2, 3, 4]]\n"
          ]
        }
      ]
    },
    {
      "cell_type": "code",
      "metadata": {
        "colab": {
          "base_uri": "https://localhost:8080/"
        },
        "id": "INwvFgBKxtrG",
        "outputId": "dd55663e-5539-4f04-8bdc-f44eca73d55b"
      },
      "source": [
        "#extend() function\n",
        "my_list=['santosh','gajanan','umesh']\n",
        "my_an=['gana','amol','hasin','rohan']\n",
        "my_list.extend(my_an)\n",
        "print(my_list)\n",
        "my_lst=['ajay','nagesh','swapnil','mangesh']\n",
        "my_list.extend(my_lst)\n",
        "print(my_list)\n",
        "\n",
        "#remove() function\n",
        "my_list.remove('santosh')\n",
        "print(my_list)\n",
        "my_list.remove('ajay')\n",
        "print(my_list)\n",
        "\n",
        "#insert() function\n",
        "my_list.insert(1,'santosh')\n",
        "print(my_list)\n",
        "\n",
        "#reverse() function\n",
        "my_list.reverse()\n",
        "print(my_list)\n",
        "\n",
        "#sort() function\n",
        "my_list.sort()\n",
        "print(my_list)\n",
        "\n",
        "#pop() function\n",
        "my_list.pop(0)\n",
        "print(my_list)\n",
        "my_list.pop(5)\n",
        "print(my_list)"
      ],
      "execution_count": 25,
      "outputs": [
        {
          "output_type": "stream",
          "name": "stdout",
          "text": [
            "['santosh', 'gajanan', 'umesh', 'gana', 'amol', 'hasin', 'rohan']\n",
            "['santosh', 'gajanan', 'umesh', 'gana', 'amol', 'hasin', 'rohan', 'ajay', 'nagesh', 'swapnil', 'mangesh']\n",
            "['gajanan', 'umesh', 'gana', 'amol', 'hasin', 'rohan', 'ajay', 'nagesh', 'swapnil', 'mangesh']\n",
            "['gajanan', 'umesh', 'gana', 'amol', 'hasin', 'rohan', 'nagesh', 'swapnil', 'mangesh']\n",
            "['gajanan', 'santosh', 'umesh', 'gana', 'amol', 'hasin', 'rohan', 'nagesh', 'swapnil', 'mangesh']\n",
            "['mangesh', 'swapnil', 'nagesh', 'rohan', 'hasin', 'amol', 'gana', 'umesh', 'santosh', 'gajanan']\n",
            "['amol', 'gajanan', 'gana', 'hasin', 'mangesh', 'nagesh', 'rohan', 'santosh', 'swapnil', 'umesh']\n",
            "['gajanan', 'gana', 'hasin', 'mangesh', 'nagesh', 'rohan', 'santosh', 'swapnil', 'umesh']\n",
            "['gajanan', 'gana', 'hasin', 'mangesh', 'nagesh', 'santosh', 'swapnil', 'umesh']\n"
          ]
        }
      ]
    },
    {
      "cell_type": "code",
      "metadata": {
        "colab": {
          "base_uri": "https://localhost:8080/"
        },
        "id": "bJ6OIe0jzVgj",
        "outputId": "3c456212-3a9c-4f25-8a43-a15e3fd386a9"
      },
      "source": [
        "#insert() function\n",
        "my_list.insert(1,'santosh')\n",
        "print(my_list)"
      ],
      "execution_count": 18,
      "outputs": [
        {
          "output_type": "stream",
          "name": "stdout",
          "text": [
            "['gajanan', 'santosh', 'santosh', 'umesh', 'gana', 'amol', 'hasin', 'rohan', 'nagesh', 'swapnil', 'mangesh']\n"
          ]
        }
      ]
    }
  ]
}